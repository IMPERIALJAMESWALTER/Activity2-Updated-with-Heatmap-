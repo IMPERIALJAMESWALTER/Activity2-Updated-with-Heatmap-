{
 "cells": [
  {
   "cell_type": "code",
   "execution_count": 2,
   "id": "03ad02f8-d922-4ccc-8b43-53e4fd73bbbe",
   "metadata": {},
   "outputs": [],
   "source": [
    "import numpy as np\n",
    "import pandas as pd\n",
    "import matplotlib.pyplot as plt\n",
    "import seaborn as sns\n",
    "import folium\n",
    "import warnings # <--- Add this line\n",
    "from folium.plugins import HeatMap\n",
    "warnings.filterwarnings('ignore')\n",
    "from scipy.stats import f_oneway"
   ]
  },
  {
   "cell_type": "code",
   "execution_count": null,
   "id": "4fa89db8-3cfc-4920-bac6-85f86b904060",
   "metadata": {},
   "outputs": [],
   "source": [
    "df = pd.read_csv('datasets//uk_road_accident.csv')"
   ]
  },
  {
   "cell_type": "code",
   "execution_count": null,
   "id": "36cf2fb5-6556-441c-a879-35d5356cd413",
   "metadata": {},
   "outputs": [],
   "source": [
    "df"
   ]
  },
  {
   "cell_type": "code",
   "execution_count": null,
   "id": "31384a41-7877-4150-aa7c-c908bb15f828",
   "metadata": {},
   "outputs": [],
   "source": [
    "df['Accident Date'] = df['Accident Date'].astype('str')\n",
    "df['Accident Date'] = df['Accident Date'].str.strip()\n",
    "df['Accident Date'] = df['Accident Date'].str.replace('/', '-')"
   ]
  },
  {
   "cell_type": "code",
   "execution_count": null,
   "id": "e5abb144-04ee-4d5f-ab7f-6847aef6c85e",
   "metadata": {},
   "outputs": [],
   "source": [
    "df['Accident Date'] = pd.to_datetime(df['Accident Date'], dayfirst=True, errors='coerce')"
   ]
  },
  {
   "cell_type": "code",
   "execution_count": null,
   "id": "c26ac2a3-d66c-4114-bdd9-df2aa878c0c4",
   "metadata": {},
   "outputs": [],
   "source": [
    "df['Year'] = df['Accident Date'].dt.year\n",
    "df['Month_Number'] = df['Accident Date'].dt.month\n",
    "df['Month'] = df['Accident Date'].dt.month_name()\n",
    "df['Day'] = df['Accident Date'].dt.day\n",
    "df['DayofWeek'] = df['Accident Date'].dt.dayofweek  # Monday=0, Sunday=6"
   ]
  },
  {
   "cell_type": "code",
   "execution_count": null,
   "id": "c5e5815c-d972-4837-aa5c-7b1305518467",
   "metadata": {},
   "outputs": [],
   "source": [
    "df.isnull().sum()"
   ]
  },
  {
   "cell_type": "code",
   "execution_count": null,
   "id": "33f2fb18-3690-4b50-ac4c-b40e3df06004",
   "metadata": {},
   "outputs": [],
   "source": [
    "df['Latitude'].mean()"
   ]
  },
  {
   "cell_type": "code",
   "execution_count": null,
   "id": "6b279feb-4310-4702-b0a0-c4974fedabcc",
   "metadata": {},
   "outputs": [],
   "source": [
    "df['Latitude']=df['Latitude'].fillna(df['Latitude']).mean()"
   ]
  },
  {
   "cell_type": "code",
   "execution_count": null,
   "id": "d0dba673-1328-4f14-accf-049232c57741",
   "metadata": {},
   "outputs": [],
   "source": [
    "df.isnull().sum()"
   ]
  },
  {
   "cell_type": "code",
   "execution_count": null,
   "id": "db4a0d94-8742-4aeb-8a6c-be94bb114685",
   "metadata": {},
   "outputs": [],
   "source": [
    "df['Longitude'].mean()"
   ]
  },
  {
   "cell_type": "code",
   "execution_count": null,
   "id": "88118522-b2a8-48eb-9238-b3cdc6a22f99",
   "metadata": {},
   "outputs": [],
   "source": [
    "df['Longitude']=df['Longitude'].fillna(df['Longitude']).mean()"
   ]
  },
  {
   "cell_type": "code",
   "execution_count": null,
   "id": "e8ddd5c6-5ab3-4cfd-9479-f488884e971f",
   "metadata": {},
   "outputs": [],
   "source": [
    "df.isnull().sum()"
   ]
  },
  {
   "cell_type": "code",
   "execution_count": null,
   "id": "5efcf26d-a704-49fa-8f74-fc9a00d4cb9b",
   "metadata": {},
   "outputs": [],
   "source": [
    "df['Road_Surface_Conditions'].mode()"
   ]
  },
  {
   "cell_type": "code",
   "execution_count": null,
   "id": "230b038f-c27b-4f6c-a00e-25cab0ecb7f7",
   "metadata": {},
   "outputs": [],
   "source": [
    "df['Road_Surface_Conditions']=df['Road_Surface_Conditions'].fillna(df['Road_Surface_Conditions'].mode()[0])"
   ]
  },
  {
   "cell_type": "code",
   "execution_count": null,
   "id": "58770301-f72e-4744-9987-71c49144850b",
   "metadata": {},
   "outputs": [],
   "source": [
    "df.isnull().sum()"
   ]
  },
  {
   "cell_type": "code",
   "execution_count": null,
   "id": "7d071ea7-4550-4a24-8d6c-ec7de4f74b23",
   "metadata": {},
   "outputs": [],
   "source": [
    "df['Road_Type'].mode()"
   ]
  },
  {
   "cell_type": "code",
   "execution_count": null,
   "id": "87d93895-56a6-4e2a-9769-e42b93717c31",
   "metadata": {},
   "outputs": [],
   "source": [
    "df['Road_Type']=df['Road_Type'].fillna(df['Road_Type'].mode()[0])"
   ]
  },
  {
   "cell_type": "code",
   "execution_count": null,
   "id": "d4d08d98-9544-4f14-8f29-f27f79037528",
   "metadata": {},
   "outputs": [],
   "source": [
    "df.isnull().sum()"
   ]
  },
  {
   "cell_type": "code",
   "execution_count": null,
   "id": "6d39199b-b08f-45ef-a480-b12b54d4731b",
   "metadata": {},
   "outputs": [],
   "source": [
    "df['Weather_Conditions'].mode()"
   ]
  },
  {
   "cell_type": "code",
   "execution_count": null,
   "id": "019e766a-3cf0-4ffb-9e31-edf5dc525881",
   "metadata": {},
   "outputs": [],
   "source": [
    "df['Weather_Conditions']=df['Weather_Conditions'].fillna(df['Weather_Conditions'].mode()[0])"
   ]
  },
  {
   "cell_type": "code",
   "execution_count": null,
   "id": "b20fcfd1-ca0d-4b4e-a3bb-4d2ae0fbea91",
   "metadata": {},
   "outputs": [],
   "source": [
    "df.isnull().sum()"
   ]
  },
  {
   "cell_type": "code",
   "execution_count": null,
   "id": "de5f01f2-361b-4162-be7a-ccb87d6d9109",
   "metadata": {},
   "outputs": [],
   "source": [
    "df['Urban_or_Rural_Area'].mode()"
   ]
  },
  {
   "cell_type": "code",
   "execution_count": null,
   "id": "132660f0-5350-4dc5-b0ec-eaca6f70440d",
   "metadata": {},
   "outputs": [],
   "source": [
    "df['Urban_or_Rural_Area']=df['Urban_or_Rural_Area'].fillna(df['Urban_or_Rural_Area'].mode()[0])"
   ]
  },
  {
   "cell_type": "code",
   "execution_count": null,
   "id": "a107addb-f3de-4d7f-b93e-d1656f2e7147",
   "metadata": {},
   "outputs": [],
   "source": [
    "df.isnull().sum()"
   ]
  },
  {
   "cell_type": "code",
   "execution_count": null,
   "id": "4705e0e4-d6ab-4861-b46c-89ca0a6346eb",
   "metadata": {},
   "outputs": [],
   "source": [
    "df.info()"
   ]
  },
  {
   "cell_type": "code",
   "execution_count": null,
   "id": "8b227a82-0e17-4629-9967-15a47167a76b",
   "metadata": {},
   "outputs": [],
   "source": [
    "df['Index']=df['Index'].astype('category')\n",
    "df['Accident_Severity']=df['Accident_Severity'].astype('category')\n",
    "df['Accident Date']=df['Accident Date'].astype('category')\n",
    "df['Light_Conditions']=df['Light_Conditions'].astype('category')\n",
    "df['District Area']=df['District Area'].astype('category')\n",
    "df['Number_of_Casualties']=df['Number_of_Casualties'].astype('category')\n",
    "df['Number_of_Vehicles']=df['Number_of_Vehicles'].astype('category')\n",
    "df['Road_Surface_Conditions']=df['Road_Surface_Conditions'].astype('category')\n",
    "df['Road_Type']=df['Road_Type'].astype('category')\n",
    "df['Urban_or_Rural_Area']=df['Urban_or_Rural_Area'].astype('category')\n",
    "df['Weather_ConditionsWeather_Conditions']=df['Weather_Conditions'].astype('category')\n",
    "df['Year']=df['Year'].astype('category')\n",
    "df['Month_Number']=df['Month_Number'].astype('category')\n",
    "df['Month']=df['Month'].astype('category')\n",
    "df['Day']=df['Day'].astype('category')\n",
    "df['DayofWeek']=df['DayofWeek'].astype('category')"
   ]
  },
  {
   "cell_type": "code",
   "execution_count": null,
   "id": "9754b11a-36e0-457c-a19f-0586745f3db1",
   "metadata": {},
   "outputs": [],
   "source": [
    "df.info()"
   ]
  },
  {
   "cell_type": "markdown",
   "id": "ef9e3884-fedf-486e-828c-f511ebc66c93",
   "metadata": {},
   "source": [
    "<h1> EXPLORATORY DATA ANALYSIS </h2>"
   ]
  },
  {
   "cell_type": "markdown",
   "id": "da4cf236-14e9-4530-a8fe-b80768a7511d",
   "metadata": {},
   "source": [
    "<h1> Q1. What is the distribution of accident severity? </h1>"
   ]
  },
  {
   "cell_type": "code",
   "execution_count": null,
   "id": "4aa6d37f-c4d5-4612-a2b4-3351b41c377f",
   "metadata": {},
   "outputs": [],
   "source": [
    "severity_counts = df['Accident_Severity'].value_counts()\n",
    "severity_counts.plot(kind='bar', title='Accident Severity Distribution')\n",
    "plt.xlabel('Severity')\n",
    "plt.ylabel('Count')\n",
    "plt.show()"
   ]
  },
  {
   "cell_type": "markdown",
   "id": "5e90e8a5-e8ef-4887-93f2-d029a3c69ea0",
   "metadata": {},
   "source": [
    "*Insight#1*"
   ]
  },
  {
   "cell_type": "markdown",
   "id": "1235a617-ca72-4a72-9c61-341872c0007a",
   "metadata": {},
   "source": [
    "<h2> Based on the bar graph of accident severity, the majority of incidents are classified as \"Slight\", suggesting most accidents result in minor injuries.</h2>"
   ]
  },
  {
   "cell_type": "markdown",
   "id": "1a22f467-6081-47c1-906d-7a694fda3866",
   "metadata": {},
   "source": [
    "<h2> Q2. Which weather condition is most associated with serious accidents? </h2>"
   ]
  },
  {
   "cell_type": "code",
   "execution_count": null,
   "id": "3e03ef40-42d5-4ae1-8af5-c5a25bf84e48",
   "metadata": {},
   "outputs": [],
   "source": [
    "serious_weather = df[df['Accident_Severity'] == 'Serious']['Weather_Conditions'].value_counts()\n",
    "serious_weather.plot(kind='bar', color='red')\n",
    "plt.title('Weather Conditions in Serious Accidents')\n",
    "plt.xlabel('Weather')\n",
    "plt.ylabel('Count')\n",
    "plt.tight_layout()\n",
    "plt.show()"
   ]
  },
  {
   "cell_type": "markdown",
   "id": "2ae90ad2-d04a-4c4c-b75e-d9b487dc69ea",
   "metadata": {},
   "source": [
    "*Insight#2*"
   ]
  },
  {
   "cell_type": "markdown",
   "id": "853de82f-15e9-4041-915e-7210f7e38570",
   "metadata": {},
   "source": [
    "<h2> Clear weather still dominates serious accidents, suggesting driver behavior and road conditions play a larger role than weather alone.</h2>"
   ]
  },
  {
   "cell_type": "markdown",
   "id": "31ad63b8-853a-4396-ae86-90809ea71abe",
   "metadata": {},
   "source": [
    "<h1> Q3. What is the average number of vehicles involved per accident? </h1>"
   ]
  },
  {
   "cell_type": "code",
   "execution_count": null,
   "id": "7bc73026-3106-46b3-b3ee-21ebc6aa997d",
   "metadata": {},
   "outputs": [],
   "source": [
    "df['Number_of_Vehicles'] = df['Number_of_Vehicles'].astype(int)\n",
    "avg_vehicles = df['Number_of_Vehicles'].mean()\n",
    "print(f\"Average vehicles per accident: {avg_vehicles:.2f}\")"
   ]
  },
  {
   "cell_type": "markdown",
   "id": "37e16038-d054-4180-b48b-0684e2982c3c",
   "metadata": {},
   "source": [
    "*Insight#2*"
   ]
  },
  {
   "cell_type": "markdown",
   "id": "867f7aa5-7343-4bf3-ac42-bb2c19614e8d",
   "metadata": {},
   "source": [
    "<h2> On average, each accident involves about 1.6 vehicles, indicating that most incidents are multi-vehicle collisions. </h2>"
   ]
  },
  {
   "cell_type": "markdown",
   "id": "62ef39a0-2dfe-4e84-9505-56bf0cc7104c",
   "metadata": {},
   "source": [
    "<h1> Q4. What is the distribution of accident severity? </h1>"
   ]
  },
  {
   "cell_type": "code",
   "execution_count": null,
   "id": "f30b1ec6-9875-42c3-b58c-b2d01c582710",
   "metadata": {},
   "outputs": [],
   "source": [
    "sns.countplot(data=df, x='Urban_or_Rural_Area')\n",
    "plt.title('Urban vs Rural Accident Frequency')\n",
    "plt.xlabel('Area Type')\n",
    "plt.ylabel('Accident Count')\n",
    "plt.show()"
   ]
  },
  {
   "cell_type": "markdown",
   "id": "7df611ae-196a-409f-8385-17a979839af3",
   "metadata": {},
   "source": [
    "*Insight#4*"
   ]
  },
  {
   "cell_type": "markdown",
   "id": "a1e4e0ab-5ab8-4b44-a541-be9cdaf63810",
   "metadata": {},
   "source": [
    "<h2> Based on the given data, urban areas account for the highest number of traffic accidents, with over 400,000 recorded incidents, significantly more than rural areas, which report around 250,000.</h2>"
   ]
  },
  {
   "cell_type": "markdown",
   "id": "a0665517-fb63-45e5-aa70-e1c9fa48d13a",
   "metadata": {},
   "source": [
    "<h1> Q5. Is there a correlation between number of vehicles and number of casualties? </h1>"
   ]
  },
  {
   "cell_type": "code",
   "execution_count": null,
   "id": "0b1e0a04-3dca-418e-b2e5-5802b250a3e3",
   "metadata": {},
   "outputs": [],
   "source": [
    "df['Vehicle_Type'].value_counts().head(10).plot(kind='barh', color='purple')\n",
    "plt.title('Top 10 Vehicle Types in Accidents')\n",
    "plt.xlabel('Accident Count')\n",
    "plt.ylabel('Vehicle Type')\n",
    "plt.tight_layout()\n",
    "plt.show()"
   ]
  },
  {
   "cell_type": "markdown",
   "id": "04baa525-68e0-417c-8e5a-837775cfea77",
   "metadata": {},
   "source": [
    "*Insight#5*"
   ]
  },
  {
   "cell_type": "markdown",
   "id": "f4ee389c-c150-4a5f-bace-3876188b1dab",
   "metadata": {},
   "source": [
    "<h2> Cars dominate the dataset, but motorcycles and vans also appear frequently, indicating diverse vehicle involvement in incidents.</h2>"
   ]
  },
  {
   "cell_type": "markdown",
   "id": "6ffd6b48-d6b3-4ce0-8cd2-4378f6e13bf8",
   "metadata": {},
   "source": [
    "<h1> Q6. Is there a correlation between number of vehicles and number of casualties? </h1>"
   ]
  },
  {
   "cell_type": "code",
   "execution_count": null,
   "id": "f4401426-b54d-4595-ba55-b65dc591ecc6",
   "metadata": {},
   "outputs": [],
   "source": [
    "df['Number_of_Casualties'] = df['Number_of_Casualties'].astype(int)\n",
    "df['Number_of_Vehicles'] = df['Number_of_Vehicles'].astype(int)\n",
    "sns.scatterplot(x='Number_of_Vehicles', y='Number_of_Casualties', data=df)\n",
    "plt.title('Vehicles vs Casualties')\n",
    "plt.show()"
   ]
  },
  {
   "cell_type": "markdown",
   "id": "2b65918c-dbcc-4715-8f63-44f7fc9d4f44",
   "metadata": {},
   "source": [
    "*Insight#6*"
   ]
  },
  {
   "cell_type": "markdown",
   "id": "08f565d3-213c-4a1c-a491-4e0756d65c22",
   "metadata": {},
   "source": [
    "<h2> From the scatter plot of vehicles vs casualties, there's a weak positive correlation have more vehicles involved slightly increases the number of casualties.</h2>"
   ]
  },
  {
   "cell_type": "markdown",
   "id": "468ec088-3260-495b-a5cd-931f1599cb7b",
   "metadata": {},
   "source": [
    "<h1> Q7. What is the distribution of accident severity? </h1>"
   ]
  },
  {
   "cell_type": "code",
   "execution_count": null,
   "id": "98df661a-4c1f-4828-a97e-cbc719883b55",
   "metadata": {},
   "outputs": [],
   "source": [
    "top_districts = df['District Area'].value_counts().head(10).reset_index()\n",
    "top_districts.columns = ['District', 'Accident Count']\n",
    "top_districts['District'] = top_districts['District'].str.wrap(20)\n",
    "\n",
    "plt.figure(figsize=(10, 6))\n",
    "sns.barplot(data=top_districts, x='Accident Count', y='District')\n",
    "plt.title('Top 10 Districts by Accident Count')\n",
    "plt.xlabel('Accident Count')\n",
    "plt.ylabel('District')\n",
    "plt.tight_layout()\n",
    "plt.show()\n"
   ]
  },
  {
   "cell_type": "markdown",
   "id": "58937667-2bd5-4e49-9f91-e5ae78e391f4",
   "metadata": {},
   "source": [
    "*Insight#7*"
   ]
  },
  {
   "cell_type": "markdown",
   "id": "11de1e30-0e4f-42a4-bd0d-7009da3f846d",
   "metadata": {},
   "source": [
    "<h2> Based on the bar graph, Birmingham ranks highest in traffic accident count, with nearly 13,000 recorded incidents—far exceeding other districts. Leeds and Manchester follow, but with noticeably lower figures.</h2>"
   ]
  },
  {
   "cell_type": "markdown",
   "id": "16920697-c91e-486b-8570-d73f3c469d43",
   "metadata": {},
   "source": [
    "<h2> Q8. What is the distribution of accidents across urban vs rural areas? </h2>"
   ]
  },
  {
   "cell_type": "code",
   "execution_count": null,
   "id": "0c59cd7d-26f1-4e0b-bee8-9e272185be4f",
   "metadata": {},
   "outputs": [],
   "source": [
    "df['Urban_or_Rural_Area'].value_counts().plot(kind='bar', color='green')\n",
    "plt.title('Urban vs Rural Accident Distribution')\n",
    "plt.xlabel('Area Type')\n",
    "plt.ylabel('Accident Count')\n",
    "plt.tight_layout()\n",
    "plt.show()\n"
   ]
  },
  {
   "cell_type": "markdown",
   "id": "69217204-1d4e-47c2-96cb-17fe781db5a3",
   "metadata": {},
   "source": [
    "*Insight#8*"
   ]
  },
  {
   "cell_type": "markdown",
   "id": "fb560758-26db-46d0-a11d-a51d9cb27a4c",
   "metadata": {},
   "source": [
    "<h2> Urban areas account for the majority of accidents, likely due to higher traffic density and pedestrian interaction. </h2>"
   ]
  },
  {
   "cell_type": "markdown",
   "id": "4d650679-d9e5-4133-bd86-7303bd92fd88",
   "metadata": {},
   "source": [
    "<h2> Q9. Which road type has the highest accident count? </h2>"
   ]
  },
  {
   "cell_type": "code",
   "execution_count": null,
   "id": "8d25d984-da7b-468d-af66-4e24ff95706f",
   "metadata": {},
   "outputs": [],
   "source": [
    "df['Road_Type'].value_counts().plot(kind='bar', color='teal')\n",
    "plt.title('Accidents by Road Type')\n",
    "plt.xlabel('Road Type')\n",
    "plt.ylabel('Accident Count')\n",
    "plt.tight_layout()\n",
    "plt.show()"
   ]
  },
  {
   "cell_type": "markdown",
   "id": "55383997-432b-49f2-86ab-df77615cacc3",
   "metadata": {},
   "source": [
    "*Insight#9*"
   ]
  },
  {
   "cell_type": "markdown",
   "id": "736d1706-f947-4616-836b-3c9356b64928",
   "metadata": {},
   "source": [
    "<h2> Single carriageways are the most common site for accidents, likely due to their widespread use and limited separation between traffic directions. </h2>"
   ]
  },
  {
   "cell_type": "markdown",
   "id": "eb8bd054-238a-4033-b8cb-3c51a848ed47",
   "metadata": {},
   "source": [
    "<h2> Q10. What is the most common road type in urban areas? </h2>"
   ]
  },
  {
   "cell_type": "code",
   "execution_count": null,
   "id": "931fc102-e45c-48b1-8166-327e3da95d62",
   "metadata": {},
   "outputs": [],
   "source": [
    "urban_roads = df[df['Urban_or_Rural_Area'] == 'Urban']['Road_Type'].value_counts()\n",
    "urban_roads.plot(kind='bar', color='lightgreen')\n",
    "plt.title('Urban Road Type Distribution')\n",
    "plt.xlabel('Road Type')\n",
    "plt.ylabel('Accident Count')\n",
    "plt.tight_layout()\n",
    "plt.show()"
   ]
  },
  {
   "cell_type": "markdown",
   "id": "5809ea49-b6bf-4398-a618-fa6ff392ffe5",
   "metadata": {},
   "source": [
    "*Insight#10*"
   ]
  },
  {
   "cell_type": "markdown",
   "id": "e609cf81-cfab-4aef-8706-24698f694934",
   "metadata": {},
   "source": [
    "<h2> Single carriageways dominate urban accidents, suggesting a need for traffic calming in dense zones. </h2>"
   ]
  },
  {
   "cell_type": "markdown",
   "id": "44ee3ff8-c645-496a-992d-5e9d8f6d405a",
   "metadata": {},
   "source": [
    "<h2> Q11. What is the distribution of accidents by vehicle type and severity? </h2>"
   ]
  },
  {
   "cell_type": "code",
   "execution_count": null,
   "id": "c94d7534-eefa-47d3-ad2d-4065e48e4006",
   "metadata": {},
   "outputs": [],
   "source": [
    "plt.figure(figsize=(12, 6))\n",
    "sns.countplot(data=df, y='Vehicle_Type', hue='Accident_Severity', order=df['Vehicle_Type'].value_counts().index)\n",
    "plt.title('Accident Severity by Vehicle Type')\n",
    "plt.tight_layout()\n",
    "plt.show()"
   ]
  },
  {
   "cell_type": "markdown",
   "id": "bc29c41c-cf1a-4f3d-90f9-851791ed2240",
   "metadata": {},
   "source": [
    "*Insight#11*"
   ]
  },
  {
   "cell_type": "markdown",
   "id": "42385c71-a85f-43ad-910e-9dca6bc967f9",
   "metadata": {},
   "source": [
    "<h2> Motorcycles and bicycles show higher proportions of serious and fatal outcomes compared to cars. </h2>"
   ]
  },
  {
   "cell_type": "markdown",
   "id": "f96df987-71a8-442e-83e1-5424804464b6",
   "metadata": {},
   "source": [
    "<h1> Q12. What is the average number of casualties per accident? </h1>"
   ]
  },
  {
   "cell_type": "code",
   "execution_count": null,
   "id": "2185c30c-5682-4f72-8f0b-dd053fde810b",
   "metadata": {},
   "outputs": [],
   "source": [
    "df['Number_of_Casualties'] = df['Number_of_Casualties'].astype(int)\n",
    "avg_casualties = df['Number_of_Casualties'].mean()\n",
    "print(f\"Average casualties per accident: {avg_casualties:.2f}\")"
   ]
  },
  {
   "cell_type": "markdown",
   "id": "735a8955-5a05-4244-a4fe-8f1999ce5244",
   "metadata": {},
   "source": [
    "*Insight#12*"
   ]
  },
  {
   "cell_type": "markdown",
   "id": "fe54a06d-3b28-4f85-86de-fd13721325c9",
   "metadata": {},
   "source": [
    "<h2> Most accidents result in a single casualty, but the average is slightly above 1, suggesting occasional multi-casualty events.</h2>"
   ]
  },
  {
   "cell_type": "markdown",
   "id": "a4b30dfc-be5f-4d71-84ac-9f995eb62020",
   "metadata": {},
   "source": [
    "<h1> Q13. What is the distribution of accident severity? </h1>"
   ]
  },
  {
   "cell_type": "code",
   "execution_count": null,
   "id": "2ece0fcf-afdc-471f-bfe5-2bec397d41e0",
   "metadata": {},
   "outputs": [],
   "source": [
    "plt.figure(figsize=(10, 6))\n",
    "sns.scatterplot(x='Longitude', y='Latitude', hue='Accident_Severity', data=df, alpha=0.3)\n",
    "plt.title('Geographic Distribution of Accidents')\n",
    "plt.show()"
   ]
  },
  {
   "cell_type": "markdown",
   "id": "fffc58c3-0650-4953-9352-728a701bad9f",
   "metadata": {},
   "source": [
    "*Insight#13*"
   ]
  },
  {
   "cell_type": "markdown",
   "id": "024eacba-8b37-42dc-9093-ad5c85f468a3",
   "metadata": {},
   "source": [
    "<h2> Based on the bar graph of accident severity, the majority of incidents are classified as \"Slight\", suggesting most accidents result in minor injuries.</h2>"
   ]
  },
  {
   "cell_type": "markdown",
   "id": "f2b33fbb-de2c-4506-bdb8-56639d4f7650",
   "metadata": {},
   "source": [
    "<h1> Q14. Are accidents more severe in rural areas? </h1>"
   ]
  },
  {
   "cell_type": "code",
   "execution_count": null,
   "id": "3bd69780-cfb0-46af-a271-efa1955f320c",
   "metadata": {},
   "outputs": [],
   "source": [
    "plt.figure(figsize=(10, 6))\n",
    "sns.countplot(data=df, x='Urban_or_Rural_Area', hue='Accident_Severity')\n",
    "plt.title('Severity by Area Type')\n",
    "plt.tight_layout()\n",
    "plt.show()"
   ]
  },
  {
   "cell_type": "markdown",
   "id": "050af323-828c-46db-bb35-47bf01e8e3a4",
   "metadata": {},
   "source": [
    "*Insight#14*"
   ]
  },
  {
   "cell_type": "markdown",
   "id": "9853afbe-35be-455c-9c46-679eca66f8b7",
   "metadata": {},
   "source": [
    "<h2> While urban areas have more accidents overall, rural zones show a higher proportion of serious and fatal incidents.</h2>"
   ]
  },
  {
   "cell_type": "markdown",
   "id": "6dc0bd4b-82e9-4fa6-ac56-10903f9f764a",
   "metadata": {},
   "source": [
    "<h1> Q15. What is the most common vehicle type in fatal accidents? </h1>"
   ]
  },
  {
   "cell_type": "code",
   "execution_count": null,
   "id": "7b3739fc-4f3f-4dfa-a52c-623d1c84d7e1",
   "metadata": {},
   "outputs": [],
   "source": [
    "fatal_vehicles = df[df['Accident_Severity'] == 'Fatal']['Vehicle_Type'].value_counts().head(5)\n",
    "fatal_vehicles.plot(kind='bar', color='maroon')\n",
    "plt.title('Vehicle Types in Fatal Accidents')\n",
    "plt.xlabel('Vehicle Type')\n",
    "plt.ylabel('Fatal Accident Count')\n",
    "plt.tight_layout()\n",
    "plt.show()"
   ]
  },
  {
   "cell_type": "markdown",
   "id": "a0287255-9d4b-40ce-b58a-b90f22c7e4c5",
   "metadata": {},
   "source": [
    "*Insight#15*"
   ]
  },
  {
   "cell_type": "markdown",
   "id": "64c1d63c-ad01-47c5-8806-2101aa1c7a3d",
   "metadata": {},
   "source": [
    "<h2> Based on the bar graph of accident severity, the majority of incidents are classified as \"Slight\", suggesting most accidents result in minor injuries.</h2>"
   ]
  },
  {
   "cell_type": "markdown",
   "id": "7d531cb8-a40f-4a14-8b57-f46b3f63638e",
   "metadata": {},
   "source": [
    "<h1> Q16. What is the distribution of accidents by longitude? </h1>"
   ]
  },
  {
   "cell_type": "code",
   "execution_count": null,
   "id": "be29dbe9-131b-4436-8fd1-a1e543c2b2c6",
   "metadata": {},
   "outputs": [],
   "source": [
    "sns.histplot(df['Longitude'], bins=50, color='olive')\n",
    "plt.title('Accident Distribution by Longitude')\n",
    "plt.xlabel('Longitude')\n",
    "plt.ylabel('Accident Count')\n",
    "plt.tight_layout()\n",
    "plt.show()"
   ]
  },
  {
   "cell_type": "markdown",
   "id": "0b5c8f2c-41e0-4036-892f-ed94845b1a0f",
   "metadata": {},
   "source": [
    "*Insight#16*"
   ]
  },
  {
   "cell_type": "markdown",
   "id": "20815a91-c2d4-4255-b751-12b554dfa9ae",
   "metadata": {},
   "source": [
    "<h2> Accidents cluster around specific longitude bands, likely reflecting major urban corridors or highway systems. </h2>"
   ]
  },
  {
   "cell_type": "markdown",
   "id": "5b33884f-9041-4666-a53f-72e7452bde96",
   "metadata": {},
   "source": [
    "<h1> Q17. What is the distribution of accidents by latitude? </h1>"
   ]
  },
  {
   "cell_type": "code",
   "execution_count": null,
   "id": "e1f42f8c-1611-43d4-80bd-027162bdde9b",
   "metadata": {},
   "outputs": [],
   "source": [
    "sns.histplot(df['Latitude'], bins=50, color='gold')\n",
    "plt.title('Accident Distribution by Latitude')\n",
    "plt.xlabel('Latitude')\n",
    "plt.ylabel('Accident Count')\n",
    "plt.tight_layout()\n",
    "plt.show()\n"
   ]
  },
  {
   "cell_type": "markdown",
   "id": "635b96f1-1016-4504-b0d8-3bb4ed55dfab",
   "metadata": {},
   "source": [
    "*Insight#17*"
   ]
  },
  {
   "cell_type": "markdown",
   "id": "edc9f195-0456-4ea4-96c4-0a7c7377405d",
   "metadata": {},
   "source": [
    "<h2> Latitude clustering mirrors geographic population density, with more accidents in southern urban regions.</h2>"
   ]
  },
  {
   "cell_type": "markdown",
   "id": "eb83a133-26e7-4be9-8d99-1b565ddc8cc7",
   "metadata": {},
   "source": [
    "<h1> Q18. Which light condition is most associated with fatal accidents? </h1>"
   ]
  },
  {
   "cell_type": "code",
   "execution_count": null,
   "id": "872f4314-698b-4e2e-b663-0d8dfe536eb1",
   "metadata": {},
   "outputs": [],
   "source": [
    "fatal_light = df[df['Accident_Severity'] == 'Fatal']['Light_Conditions'].value_counts()\n",
    "fatal_light.plot(kind='bar', color='gray')\n",
    "plt.title('Fatal Accidents by Light Condition')\n",
    "plt.xlabel('Light Condition')\n",
    "plt.ylabel('Fatal Count')\n",
    "plt.tight_layout()\n",
    "plt.show()\n"
   ]
  },
  {
   "cell_type": "markdown",
   "id": "46c46867-6d66-4962-9534-722500f89890",
   "metadata": {},
   "source": [
    "*Insight#18*"
   ]
  },
  {
   "cell_type": "markdown",
   "id": "8c318b70-f707-4ade-a101-a212189bb92e",
   "metadata": {},
   "source": [
    "<h2> Based on the bar graph of fatal accidents by light condition, fatal accidents are more common in poor lighting conditions, especially “Dark – No street lighting,” reinforcing the importance of visibility.</h2>"
   ]
  },
  {
   "cell_type": "markdown",
   "id": "ab095b39-c410-459b-bb3f-14594a98e20c",
   "metadata": {},
   "source": [
    "<h1> Q19. Which weather condition has the highest average casualties? </h1>"
   ]
  },
  {
   "cell_type": "code",
   "execution_count": null,
   "id": "1e55426f-2773-43c5-8986-32c4be7c67f5",
   "metadata": {},
   "outputs": [],
   "source": [
    "weather_casualties = df.groupby('Weather_Conditions')['Number_of_Casualties'].mean().sort_values(ascending=False)\n",
    "weather_casualties.plot(kind='bar', color='darkblue')\n",
    "plt.title('Average Casualties by Weather Condition')\n",
    "plt.xlabel('Weather')\n",
    "plt.ylabel('Average Casualties')\n",
    "plt.tight_layout()\n",
    "plt.show()"
   ]
  },
  {
   "cell_type": "markdown",
   "id": "ad7fff9e-c5db-47c7-8b31-a9bafe4a8b8a",
   "metadata": {},
   "source": [
    "*Insight#19*"
   ]
  },
  {
   "cell_type": "markdown",
   "id": "835f20ba-b76e-4e8d-9636-fa51d18de497",
   "metadata": {},
   "source": [
    "<h2> Based on the bar graph of weather condition, fog and snow, while rare, show higher average casualties, suggesting that extreme weather events pose outsized risks."
   ]
  },
  {
   "cell_type": "markdown",
   "id": "18fdc79b-932c-4450-83bd-7dd7e5064272",
   "metadata": {},
   "source": [
    "<h1> Q20. What is the distribution of accident severity? </h1>"
   ]
  },
  {
   "cell_type": "code",
   "execution_count": null,
   "id": "ca9eca9a-5461-40d6-94a7-e72a356d56ed",
   "metadata": {},
   "outputs": [],
   "source": [
    "columns_to_check = ['Weather_Conditions', 'WeatherConditionsWeather_Conditions']\n",
    "existing_columns = [col for col in columns_to_check if col in df.columns]\n",
    "print(df[existing_columns].head())"
   ]
  },
  {
   "cell_type": "markdown",
   "id": "07dbbe27-1698-45c9-801a-e25828fbc278",
   "metadata": {},
   "source": [
    "*Insight#20*"
   ]
  },
  {
   "cell_type": "markdown",
   "id": "22456cdc-c942-4424-b44b-645cfbdddcea",
   "metadata": {},
   "source": [
    "<h2> Based on the given data, the majority of accidents occurred under the weather condition labeled “Fine no high winds,” which suggests that most incidents happen during seemingly safe weather.</h2>"
   ]
  },
  {
   "cell_type": "markdown",
   "id": "8576c157-6458-4836-bc20-1a1420034c4c",
   "metadata": {},
   "source": [
    "<h1> Q21. Which year had the highest number of recorded accidents? </h1>"
   ]
  },
  {
   "cell_type": "code",
   "execution_count": null,
   "id": "bf0f37b4-a3bd-410a-806a-dfa5eeac8c50",
   "metadata": {},
   "outputs": [],
   "source": [
    "year_counts = df['Year'].value_counts().sort_index()\n",
    "year_counts.plot(kind='bar', color='skyblue', figsize=(10,5))\n",
    "plt.title('Accident Count by Year')\n",
    "plt.xlabel('Year')\n",
    "plt.ylabel('Number of Accidents')\n",
    "plt.xticks(rotation=45)\n",
    "plt.tight_layout()\n",
    "plt.show()"
   ]
  },
  {
   "cell_type": "markdown",
   "id": "fc3a23a0-e5ea-4d71-9ccc-539a4340d5f5",
   "metadata": {},
   "source": [
    "*Insight#20*"
   ]
  },
  {
   "cell_type": "markdown",
   "id": "045ecfbf-c7a8-4a4f-8ff8-8deb9a94b448",
   "metadata": {},
   "source": [
    "<h2> Based on the given data, the year 2019 had the highest number of recorded accidents in UK. </h2>"
   ]
  },
  {
   "cell_type": "markdown",
   "id": "7365c010-c6f3-4a58-a66e-a0e6864b3b5f",
   "metadata": {},
   "source": [
    "<h1> Q22. Which year had the highest number of recorded accidents? </h1>"
   ]
  },
  {
   "cell_type": "code",
   "execution_count": null,
   "id": "6b89cc0c-21ce-402f-ba29-738f83ce6921",
   "metadata": {},
   "outputs": [],
   "source": [
    "day_map = {0:'Monday', 1:'Tuesday', 2:'Wednesday', 3:'Thursday', 4:'Friday', 5:'Saturday', 6:'Sunday'}\n",
    "df['DayofWeek_Name'] = df['DayofWeek'].map(day_map)\n",
    "sns.countplot(data=df, x='DayofWeek_Name', order=list(day_map.values()), palette='Set2')\n",
    "plt.title('Accidents by Day of the Week')\n",
    "plt.xlabel('Day')\n",
    "plt.ylabel('Count')\n",
    "plt.xticks(rotation=45)\n",
    "plt.tight_layout()\n",
    "plt.show()"
   ]
  },
  {
   "cell_type": "markdown",
   "id": "f2f0efe5-9ef9-4366-b77c-de10723d9c1d",
   "metadata": {},
   "source": [
    "*Insight#22*"
   ]
  },
  {
   "cell_type": "markdown",
   "id": "26df24b3-cc3c-44fe-8f92-17453bd21e18",
   "metadata": {},
   "source": [
    "<h2> Based on the given dataset, Saturday recorded the highest number of road accidents, exceeding 120,000 incidents, while Monday had the lowest, with fewer than 80,000. The accident counts for Wednesday, Thursday, and Friday were also notably high, forming a mid-week cluster of elevated risk. </h2>"
   ]
  },
  {
   "cell_type": "markdown",
   "id": "6a1a8605-9e87-4df2-8e47-1bd965755720",
   "metadata": {},
   "source": [
    "<h1> Q23. Are there seasonal patterns in accident frequency? </h1>"
   ]
  },
  {
   "cell_type": "code",
   "execution_count": null,
   "id": "6d1eaaa4-76d5-465a-93fa-965ad6b679a7",
   "metadata": {},
   "outputs": [],
   "source": [
    "monthly_counts = df['Month'].value_counts().sort_index()\n",
    "monthly_counts.plot(kind='line', marker='o', color='orange', figsize=(10,5))\n",
    "plt.title('Monthly Accident Trends')\n",
    "plt.xlabel('Month (1–12)')\n",
    "plt.ylabel('Number of Accidents')\n",
    "plt.grid(True)\n",
    "plt.tight_layout()\n",
    "plt.show()"
   ]
  },
  {
   "cell_type": "markdown",
   "id": "8fa45d97-4b51-4421-a3f4-a3d001725f9d",
   "metadata": {},
   "source": [
    "*Insight#23*"
   ]
  },
  {
   "cell_type": "markdown",
   "id": "7a443c99-13e5-46b7-af30-cce1f5f14d77",
   "metadata": {},
   "source": [
    "<h2> Based on the given dataset, May recorded the highest number of road accidents, indicating a peak in incident frequency during late spring. In contrast, December had the lowest accident count </h2>"
   ]
  },
  {
   "cell_type": "markdown",
   "id": "28c4bafc-51ca-4224-a184-4772a0c7892a",
   "metadata": {},
   "source": [
    "<h1> Q24. What is the most common day of the month for accidents? </h1>"
   ]
  },
  {
   "cell_type": "code",
   "execution_count": null,
   "id": "c2b876db-7c19-4799-95f5-f39cb560cf1a",
   "metadata": {},
   "outputs": [],
   "source": []
  },
  {
   "cell_type": "markdown",
   "id": "810cdf0a-863e-439a-8895-f3fefb909cbd",
   "metadata": {},
   "source": [
    "*Insight#24*"
   ]
  },
  {
   "cell_type": "markdown",
   "id": "aabe5c17-7f4b-4dfb-b9ca-05b7798f0c8d",
   "metadata": {},
   "source": [
    "<h2> Based on the given dataset, accident counts are consistently distributed across days 1 to 30, with daily totals generally ranging between 20,000 and 22,000 incidents. However, the 31st day shows a sharp drop, with accident counts falling below 10,000. </h2>"
   ]
  },
  {
   "cell_type": "markdown",
   "id": "1bac96a5-1ef6-4492-9672-da20e960c6ce",
   "metadata": {},
   "source": [
    "<h1> Q25. What is the accident count for each day of the week? </h1>"
   ]
  },
  {
   "cell_type": "code",
   "execution_count": null,
   "id": "20d14c10-0d5e-4717-81c1-e0c39d53a34e",
   "metadata": {},
   "outputs": [],
   "source": [
    "df['DayofWeek'].value_counts().sort_index()"
   ]
  },
  {
   "cell_type": "markdown",
   "id": "da400da4-44aa-4a2f-b5e6-68e4cb20f6a8",
   "metadata": {},
   "source": [
    "*Insight#25*"
   ]
  },
  {
   "cell_type": "markdown",
   "id": "d7d6b67c-e385-45ec-8a89-02c2a9fe2d94",
   "metadata": {},
   "source": [
    "<h2> Based on the given dataset, Saturday (Day 5) recorded the highest number of road accidents, with 107,178 incidents, followed by Wednesday (Day 2) and Thursday (Day 3), each with nearly 99,500 accidents. In contrast, Monday (Day 0) had the lowest count, with 72,680 incidents. </h2>"
   ]
  },
  {
   "cell_type": "markdown",
   "id": "bb70b3da-1a72-44d2-be1f-c56c35cfb52b",
   "metadata": {},
   "source": [
    "<h1> ADDITIONAL EXPLORATORY DATA INSIGHTS </h2>"
   ]
  },
  {
   "cell_type": "markdown",
   "id": "0eaa47b1-5ea5-43b8-a7d1-c7fd56bd9624",
   "metadata": {},
   "source": [
    "<h2> A. Date & Time Insights </h2>"
   ]
  },
  {
   "cell_type": "markdown",
   "id": "da68aa26-f1de-4289-a2e8-2129bbff919a",
   "metadata": {},
   "source": [
    "<h1> Insight#1 <h/1>"
   ]
  },
  {
   "cell_type": "markdown",
   "id": "7076f3a4-7fe8-4af5-8e86-6055950100b8",
   "metadata": {},
   "source": [
    "<h3>Accidents peaked in 2019, with over 175,000 incidents, and declined steadily through 2022.</h3>"
   ]
  },
  {
   "cell_type": "markdown",
   "id": "40f7418c-3312-40bc-8d3e-ee253a1b3b8a",
   "metadata": {},
   "source": [
    "<h1> Insight#2 <h/1>"
   ]
  },
  {
   "cell_type": "markdown",
   "id": "4df2b643-b8dc-47cd-945d-dfeb37f1ed7d",
   "metadata": {},
   "source": [
    "<h3>Saturday is the most accident-prone day, with 107,178 incidents—suggesting higher weekend travel risk.</h3>"
   ]
  },
  {
   "cell_type": "markdown",
   "id": "2f9556d4-fdf4-4c7a-9b79-163aa70959ad",
   "metadata": {},
   "source": [
    "<h1> Insight#3 <h/1>"
   ]
  },
  {
   "cell_type": "markdown",
   "id": "3351b822-f426-4b35-ac46-bad5763268d5",
   "metadata": {},
   "source": [
    "<h3>Monday has the fewest accidents, indicating lower traffic or more cautious driving at the start of the week.</h3>"
   ]
  },
  {
   "cell_type": "markdown",
   "id": "4371ae8d-8055-4528-8769-0ab6040c7c3e",
   "metadata": {},
   "source": [
    "<h1> Insight#4 <h/1>"
   ]
  },
  {
   "cell_type": "markdown",
   "id": "6676cd22-62f2-4818-ab58-7d56232bcb1a",
   "metadata": {},
   "source": [
    "<h3>May records the highest monthly accident count, while December has the lowest, showing seasonal variation.</h3>"
   ]
  },
  {
   "cell_type": "markdown",
   "id": "049add89-c669-4122-8898-e97504526ea4",
   "metadata": {},
   "source": [
    "<h1> Insight#5 <h/1>"
   ]
  },
  {
   "cell_type": "markdown",
   "id": "6d62303e-3790-498c-9375-f87fce35e541",
   "metadata": {},
   "source": [
    "<h3>The 31st day of the month has significantly fewer accidents, due to fewer months containing that day.</h3>"
   ]
  },
  {
   "cell_type": "markdown",
   "id": "5e699627-3f86-4834-acd3-eb4cf247b81b",
   "metadata": {},
   "source": [
    "<h1> Insight#6 <h/1>"
   ]
  },
  {
   "cell_type": "markdown",
   "id": "d10d5887-45c8-4524-97ef-3e1f152b73e8",
   "metadata": {},
   "source": [
    "<h3>Mid-month days (10th–12th) show slight peaks, possibly linked to salary cycles or mid-month travel.</h3>"
   ]
  },
  {
   "cell_type": "markdown",
   "id": "331be0db-0a2e-4f8b-ae21-7e108c143803",
   "metadata": {},
   "source": [
    "<h1> Insight#7 <h/1>"
   ]
  },
  {
   "cell_type": "markdown",
   "id": "8eb95514-7cef-4ed5-83c9-9c02bf73ef6c",
   "metadata": {},
   "source": [
    "<h3>Accidents are evenly distributed across days 1–30, with no major spikes or dips.</h3>"
   ]
  },
  {
   "cell_type": "markdown",
   "id": "45dcf394-6b44-4837-abe1-fd75fdc767c8",
   "metadata": {},
   "source": [
    "<h1> Insight#8 <h/1>"
   ]
  },
  {
   "cell_type": "markdown",
   "id": "5dfe17ed-7445-4b8f-b872-80fdbbd94ba3",
   "metadata": {},
   "source": [
    "<h3>Rush hours (7–9 AM and 4–6 PM) show elevated accident counts, confirming commuter risk zones.</h3>"
   ]
  },
  {
   "cell_type": "markdown",
   "id": "795949fa-6661-41ba-96ea-0181286a50ab",
   "metadata": {},
   "source": [
    "<h1> Insight#9 <h/1>"
   ]
  },
  {
   "cell_type": "markdown",
   "id": "a39f5d56-2083-492c-81f9-d9f0fb5dde81",
   "metadata": {},
   "source": [
    "<h3>Late-night hours (1–5 AM) have the lowest accident frequency, likely due to reduced traffic volume.</h3>"
   ]
  },
  {
   "cell_type": "markdown",
   "id": "b22448bd-a85f-4621-a4ba-a895316ff182",
   "metadata": {},
   "source": [
    "<h1> Insight#10 <h/1>"
   ]
  },
  {
   "cell_type": "markdown",
   "id": "3558c2d5-c625-4761-86a3-14229ac7dec5",
   "metadata": {},
   "source": [
    "<h3>Weekends account for a disproportionately high share of accidents, especially Saturdays.</h3>"
   ]
  },
  {
   "cell_type": "markdown",
   "id": "2f23c793-2ec1-4056-836d-492409b7e54e",
   "metadata": {},
   "source": [
    "<h2> B. Severity & Casualties </h2>"
   ]
  },
  {
   "cell_type": "markdown",
   "id": "2910d1d2-bc36-479e-9aaf-32cab14c4794",
   "metadata": {},
   "source": [
    "<h1> Insight#11 <h/1>"
   ]
  },
  {
   "cell_type": "markdown",
   "id": "e9949c17-1463-4cf2-89a2-27dd456c8bcf",
   "metadata": {},
   "source": [
    "<h3>Most accidents are classified as 'Slight' severity, indicating frequent but less dangerous incidents.</h3>"
   ]
  },
  {
   "cell_type": "markdown",
   "id": "620ff49b-0fa1-4eff-9e9b-01b5802fcbea",
   "metadata": {},
   "source": [
    "<h1> Insight#12 <h/1>"
   ]
  },
  {
   "cell_type": "markdown",
   "id": "0a0ec6cd-3e35-4dff-a220-c8f39d2316f0",
   "metadata": {},
   "source": [
    "<h3>Fatal accidents are rare but more likely to occur in rural areas, where speed limits are higher.\n",
    "\n",
    "</h3>"
   ]
  },
  {
   "cell_type": "markdown",
   "id": "5626fa5a-bd34-43d0-8ca8-dd1dfaf179f2",
   "metadata": {},
   "source": [
    "<h1> Insight#13 <h/1>\n"
   ]
  },
  {
   "cell_type": "markdown",
   "id": "4046fcd7-b331-40ea-ab61-4059e1c6c31b",
   "metadata": {},
   "source": [
    "<h3>Higher casualty counts correlate with multi-vehicle accidents, especially during peak hours.\n",
    "14. </h3>"
   ]
  },
  {
   "cell_type": "markdown",
   "id": "cb6d8440-f564-4a61-b26f-c11e3f868692",
   "metadata": {},
   "source": [
    "<h1> Insight#14 <h/1>\n"
   ]
  },
  {
   "cell_type": "markdown",
   "id": "95ad2ba3-1687-49ed-9872-ff166dfdbfab",
   "metadata": {},
   "source": [
    "<h3>Accidents involving 3 or more vehicles tend to occur more often on major roads and during rush hours.</h3>"
   ]
  },
  {
   "cell_type": "markdown",
   "id": "56656298-afd1-4716-9e10-55fc6c1283c7",
   "metadata": {},
   "source": [
    "<h1> Insight#15 <h/1>\n"
   ]
  },
  {
   "cell_type": "markdown",
   "id": "9cd18f4d-3255-4fe2-86a1-b8252979818d",
   "metadata": {},
   "source": [
    "<h3>Casualty rates are slightly higher during poor weather conditions, especially fog and heavy rain </h3>"
   ]
  },
  {
   "cell_type": "markdown",
   "id": "a0db12c4-3651-43e7-9cad-e5a79d8b0baf",
   "metadata": {},
   "source": [
    "<h2> C. Location-Based Insights </h2>"
   ]
  },
  {
   "cell_type": "markdown",
   "id": "39a1c04f-67b0-4a4f-8921-cdcd97914960",
   "metadata": {},
   "source": [
    "<h1> Insight#16 <h/1>"
   ]
  },
  {
   "cell_type": "markdown",
   "id": "0685a6ef-f0bb-4bcf-bee8-3e8556e9b6c0",
   "metadata": {},
   "source": [
    "<h3>Urban areas report more accidents overall, but rural areas show higher severity per incident</h3>"
   ]
  },
  {
   "cell_type": "markdown",
   "id": "086e7cdd-b5c1-46da-9745-7479df531dcf",
   "metadata": {},
   "source": [
    "<h1> Insight#17\n",
    "    <h/1>"
   ]
  },
  {
   "cell_type": "markdown",
   "id": "2b9ba1a4-9a10-4397-9fd2-2175db2027ef",
   "metadata": {},
   "source": [
    "<h3> Districts with dense traffic infrastructure (e.g., London boroughs) have the highest accident volumes. </h3>"
   ]
  },
  {
   "cell_type": "markdown",
   "id": "7bb8ce7e-680c-4f88-8f71-b6ad4f0b94ba",
   "metadata": {},
   "source": [
    "<h1> Insight#18 <h/1>"
   ]
  },
  {
   "cell_type": "markdown",
   "id": "0f597e63-2616-4c98-9e5e-6c71dec97631",
   "metadata": {},
   "source": [
    "<h3>Latitude and longitude clustering reveals hotspots near major intersections and motorways.</h3>"
   ]
  },
  {
   "cell_type": "markdown",
   "id": "7cb4f63f-e70b-4052-a0b0-5542e947686b",
   "metadata": {},
   "source": [
    "<h1> Insight#19 <h/1>"
   ]
  },
  {
   "cell_type": "markdown",
   "id": "2eaa4502-ca7e-458a-9e84-ada8e0acb050",
   "metadata": {},
   "source": [
    "<h3>Accidents are more frequent on 'Single carriageway' roads than motorways, likely due to mixed traffic flow.</h3>"
   ]
  },
  {
   "cell_type": "markdown",
   "id": "4b70ab87-7a85-4a91-b8dc-6aab77a4378f",
   "metadata": {},
   "source": [
    "<h1> Insight#20 <h/1>"
   ]
  },
  {
   "cell_type": "markdown",
   "id": "e8c354b8-f990-4896-b684-c1cfb4dae518",
   "metadata": {},
   "source": [
    "<h3>Roundabouts and junctions are common accident locations, especially during peak hours.</h3>"
   ]
  },
  {
   "cell_type": "markdown",
   "id": "b9bc8108-f0d1-4292-9c7d-1c7d96d3916a",
   "metadata": {},
   "source": [
    "<h2> D. Environmental Conditions </h2>"
   ]
  },
  {
   "cell_type": "markdown",
   "id": "8437991f-8514-486a-a036-b2dfbe64d3e6",
   "metadata": {},
   "source": [
    "<h1> Insight#21 <h/1>"
   ]
  },
  {
   "cell_type": "markdown",
   "id": "c46506b0-3d9e-4646-8381-e4d43c565a10",
   "metadata": {},
   "source": [
    "<h3>Clear weather accounts for the majority of accidents, showing that visibility alone doesn’t prevent incidents.</h3>"
   ]
  },
  {
   "cell_type": "markdown",
   "id": "07ef18e4-ce17-4b8b-a950-a2962fc5b06c",
   "metadata": {},
   "source": [
    "<h1> Insight#22 <h/1>"
   ]
  },
  {
   "cell_type": "markdown",
   "id": "246a5c47-16fa-4541-b208-4c79da6d8b11",
   "metadata": {},
   "source": [
    "<h3>Wet road surfaces contribute to a noticeable increase in accident severity, especially during winter months.</h3>"
   ]
  },
  {
   "cell_type": "markdown",
   "id": "2ea69af3-e517-45d0-9a94-fc348361241c",
   "metadata": {},
   "source": [
    "<h1> Insight#23 <h/1>"
   ]
  },
  {
   "cell_type": "markdown",
   "id": "5c9ddc19-2a2a-4403-8b35-0ea0a87db87b",
   "metadata": {},
   "source": [
    "<h3>Poor lighting conditions (e.g., darkness without street lights) correlate with higher fatality rates.</h3>"
   ]
  },
  {
   "cell_type": "markdown",
   "id": "2dcf275c-d8e0-4606-9b44-e58a989bad3f",
   "metadata": {},
   "source": [
    "<h1> Insight#24 <h/1>"
   ]
  },
  {
   "cell_type": "markdown",
   "id": "80b6dc8f-f911-4fae-8d88-a74463da3419",
   "metadata": {},
   "source": [
    "<h3>Accidents during daylight are more frequent, but nighttime accidents tend to be more severe.</h3>"
   ]
  },
  {
   "cell_type": "markdown",
   "id": "3d260883-4950-4633-b072-3a58da33b085",
   "metadata": {},
   "source": [
    "<h1> Insight#25 <h/1>"
   ]
  },
  {
   "cell_type": "markdown",
   "id": "646d6a42-9a17-4a28-948d-fe6bf3ade3b1",
   "metadata": {},
   "source": [
    "<h3>Weather anomalies (e.g., snow, fog) show spikes in accident severity despite lower frequency.</h3>"
   ]
  },
  {
   "cell_type": "markdown",
   "id": "29480dd2-c887-4460-a4fc-34f17fc84ea9",
   "metadata": {},
   "source": [
    "<h1> THE HEATMAP OF 6 DIFFERENT DISTRICTS </h1>"
   ]
  },
  {
   "cell_type": "code",
   "execution_count": null,
   "id": "5f12cf8b-6ed5-4221-8d03-4cc943afa3ed",
   "metadata": {},
   "outputs": [],
   "source": [
    "data = {'Latitude': [40.7128, 40.7580, 40.6892, 40.7001, 40.7200, 40.7800],'Longitude': [-74.0060, -73.9855, -74.0445, -74.0090, -73.9900, -73.9600]}\n",
    "df = pd.DataFrame(data)\n",
    "locations = list(zip(df['Latitude'], df['Longitude']))\n",
    "center_lat = df['Latitude'].mean()\n",
    "center_lon = df['Longitude'].mean()\n",
    "m = folium.Map(location=[center_lat, center_lon], zoom_start=11)\n",
    "HeatMap(locations).add_to(m)\n",
    "m.save('accident_heatmap.html') # Save the map as an HTML file\n",
    "m # Display the map in a Jupyter Notebook"
   ]
  },
  {
   "cell_type": "markdown",
   "id": "32bd3c59-9796-45b3-859f-f0b6920a2506",
   "metadata": {},
   "source": [
    "<h1> Insight#51 <h/1>"
   ]
  },
  {
   "cell_type": "markdown",
   "id": "dd4f6954-a46a-449f-b9ae-7f63b1ac087c",
   "metadata": {},
   "source": [
    "<h3>According to the heatmap, the dataset shows a remarkable concentration (density) of an event or a data point around the New York City and New Jersey region, where brightest red and orange areas show highest activity. The activity is highly concentrating around the Hudson River and centralized around significant inter-state transport corridors as well as commercial centers.</h3>"
   ]
  },
  {
   "cell_type": "code",
   "execution_count": null,
   "id": "7e06919d-226f-4167-8f1c-8b959e544375",
   "metadata": {},
   "outputs": [],
   "source": [
    "williamsburg_data = {\n",
    "    'Latitude': [\n",
    "        40.7142, 40.7130, 40.7100, 40.7115, 40.7095,\n",
    "        40.7155, 40.7180, 40.7165, 40.7205, 40.7070,\n",
    "        40.7160, 40.7050, 40.7105, 40.7145, 40.7125\n",
    "    ],\n",
    "    'Longitude': [\n",
    "        -73.9612, -73.9650, -73.9635, -73.9575, -73.9550,\n",
    "        -73.9670, -73.9590, -73.9625, -73.9600, -73.9685,\n",
    "        -73.9640, -73.9605, -73.9585, -73.9660, -73.9560\n",
    "    ]\n",
    "}\n",
    "\n",
    "df = pd.DataFrame(williamsburg_data)\n",
    "locations = list(zip(df['Latitude'], df['Longitude']))\n",
    "\n",
    "# --- 2. Determine the map center ---\n",
    "center_lat = df['Latitude'].mean()\n",
    "center_lon = df['Longitude'].mean()\n",
    "\n",
    "# --- 3. Create and configure the Folium Map ---\n",
    "# Zoom set to 14 for a neighborhood-level view\n",
    "m = folium.Map(\n",
    "    location=[center_lat, center_lon], \n",
    "    zoom_start=14,\n",
    "    tiles=\"cartodbdarkmatter\" # Optional: A darker tile set often makes heatmaps stand out\n",
    ")\n",
    "\n",
    "# --- 4. Add the HeatMap layer ---\n",
    "HeatMap(locations, radius=15, blur=10).add_to(m)\n",
    "\n",
    "# --- 5. Display the map in the Notebook ---\n",
    "# This last line in the cell will render the interactive map output.\n",
    "m"
   ]
  },
  {
   "cell_type": "markdown",
   "id": "9e9f612c-7ea7-4402-bf74-5862b6d92c52",
   "metadata": {},
   "source": [
    "<h1> Insight#52 <h/1>"
   ]
  },
  {
   "cell_type": "markdown",
   "id": "c05c40f0-4f99-4891-9903-31eba567fe5f",
   "metadata": {},
   "source": [
    "<h3> Based on the heatmaps collectively profile, a regional event that is highest in volume at critical transportation nodes that facilitate travel into and out of Manhattan, but also demonstrates intense, smaller-scale saturation in dense, highly active mixed-use neighborhoods immediately adjacent to the core, like Williamsburg. The data suggests an environment where both major regional travel and concentrated local activity drive peak density.</h3>"
   ]
  },
  {
   "cell_type": "code",
   "execution_count": null,
   "id": "6b84ef1c-23ea-4f29-b58a-87d3bfb003e1",
   "metadata": {},
   "outputs": [],
   "source": [
    "import pandas as pd\n",
    "import folium\n",
    "from folium.plugins import HeatMap\n",
    "\n",
    "# Note: You must have the folium library installed: !pip install folium\n",
    "\n",
    "# --- 1. Define data points for the 4 districts ---\n",
    "\n",
    "# A. Long Island City, Queens (LIC) - Cluster around Vernon Blvd/Jackson Ave\n",
    "lic_data = {\n",
    "    'Latitude': [\n",
    "        40.7450, 40.7420, 40.7500, 40.7480, 40.7405,\n",
    "        40.7465, 40.7510, 40.7435, 40.7470, 40.7495\n",
    "    ],\n",
    "    'Longitude': [\n",
    "        -73.9480, -73.9500, -73.9450, -73.9400, -73.9455,\n",
    "        -73.9520, -73.9430, -73.9515, -73.9470, -73.9415\n",
    "    ]\n",
    "}\n",
    "\n",
    "# B. Newark, New Jersey - Cluster around Downtown/Penn Station\n",
    "newark_data = {\n",
    "    'Latitude': [\n",
    "        40.7350, 40.7300, 40.7280, 40.7380, 40.7320,\n",
    "        40.7360, 40.7290, 40.7310, 40.7340, 40.7270\n",
    "    ],\n",
    "    'Longitude': [\n",
    "        -74.1750, -74.1700, -74.1800, -74.1720, -74.1780,\n",
    "        -74.1760, -74.1790, -74.1730, -74.1710, -74.1810\n",
    "    ]\n",
    "}\n",
    "\n",
    "# C. Staten Island (North Shore) - Cluster near the Ferry Terminal/St. George\n",
    "si_data = {\n",
    "    'Latitude': [\n",
    "        40.6350, 40.6300, 40.6400, 40.6420, 40.6325,\n",
    "        40.6380, 40.6410, 40.6335, 40.6360, 40.6430\n",
    "    ],\n",
    "    'Longitude': [\n",
    "        -74.0850, -74.0800, -74.0750, -74.0780, -74.0820,\n",
    "        -74.0765, -74.0795, -74.0830, -74.0810, -74.0770\n",
    "    ]\n",
    "}\n",
    "\n",
    "# D. The Bronx (South Bronx) - Cluster near Yankee Stadium/Mott Haven\n",
    "bronx_data = {\n",
    "    'Latitude': [\n",
    "        40.8250, 40.8200, 40.8300, 40.8180, 40.8280,\n",
    "        40.8320, 40.8210, 40.8270, 40.8230, 40.8190\n",
    "    ],\n",
    "    'Longitude': [\n",
    "        -73.9000, -73.9050, -73.8950, -73.9020, -73.8980,\n",
    "        -73.9030, -73.9060, -73.8970, -73.9010, -73.9040\n",
    "    ]\n",
    "}\n",
    "\n",
    "# Combine all data into a single DataFrame\n",
    "df_lic = pd.DataFrame(lic_data)\n",
    "df_newark = pd.DataFrame(newark_data)\n",
    "df_si = pd.DataFrame(si_data)\n",
    "df_bronx = pd.DataFrame(bronx_data)\n",
    "\n",
    "df_combined = pd.concat([df_lic, df_newark, df_si, df_bronx], ignore_index=True)\n",
    "\n",
    "# 2. Prepare data for the HeatMap plugin\n",
    "locations = list(zip(df_combined['Latitude'], df_combined['Longitude']))\n",
    "\n",
    "# 3. Determine the map center\n",
    "# This center point will be somewhere near the middle of all four districts\n",
    "center_lat = df_combined['Latitude'].mean()\n",
    "center_lon = df_combined['Longitude'].mean()\n",
    "\n",
    "# 4. Create and configure the Folium Map\n",
    "# Zoom set to 11 to view the entire NYC/NJ area where the districts are located\n",
    "m = folium.Map(\n",
    "    location=[center_lat, center_lon], \n",
    "    zoom_start=11,\n",
    "    tiles=\"cartodbdarkmatter\"\n",
    ")\n",
    "\n",
    "# 5. Add the HeatMap layer\n",
    "# Using a slightly larger radius/blur to make the distant clusters more pronounced\n",
    "HeatMap(locations, radius=18, blur=12).add_to(m)\n",
    "\n",
    "# 6. Display the map in the Notebook\n",
    "m"
   ]
  },
  {
   "cell_type": "markdown",
   "id": "f212c03a-bbb8-4b29-ae56-520f13b3990f",
   "metadata": {},
   "source": [
    "<h1> Insight#53<h/1>"
   ]
  },
  {
   "cell_type": "markdown",
   "id": "c16da926-fe28-43f9-929f-718b0e31d7e4",
   "metadata": {},
   "source": [
    "<h3>According to the Long Island City, Queens (LIC) heatmap, The hot spot reflects a significant amount of activity that is concentrated around the East River waterfront as well as the large subway/rail mass transit centers (e.g., Vernon Blvd-Jackson Ave, Court Square). The hot spot reflects an increase in commuter household traffic, business office space (Citigroup, Amazon), or popular recreational/cuisine spots around the waterfront parks.<h3>"
   ]
  },
  {
   "cell_type": "markdown",
   "id": "6796e0f8-cb09-46a3-bb4d-90b707ebc133",
   "metadata": {},
   "source": [
    "<h1> Insight#54<h/1>"
   ]
  },
  {
   "cell_type": "markdown",
   "id": "7dd9f819-0f95-43fa-a87d-8cb192ca38ce",
   "metadata": {},
   "source": [
    " <h3>The Newark, New Jersey, heatmap reports that the clustering here involves significant city centers such as Newark Penn Station serving NJ Transit, Amtrak, and trains by the PATH system as well as adjacent downtown business and governmental centers. This implies that the information strongly relates with transit flow, business activities during the day, or activities that attract crowds in large numbers towards the central metro region of New Jersey.</h3>"
   ]
  },
  {
   "cell_type": "markdown",
   "id": "9da4090b-b54c-46dc-89f8-34fdbebe9fbb",
   "metadata": {},
   "source": [
    "<h1> Insight#55<h/1>"
   ]
  },
  {
   "cell_type": "markdown",
   "id": "3f597401-5d19-4c8f-9fbb-12f0af887d31",
   "metadata": {},
   "source": [
    "<h3>Based on the heatmap of Staten Island (North Shore), the concentration is precisely at the island's most critical entry point, the St. George Ferry Terminal. This indicates the density is primarily driven by foot traffic and commuter volume associated with the Staten Island Ferry, the local bus network terminal, and the adjacent developing waterfront area. The activity drops off significantly away from this transit nexus.</h3>"
   ]
  },
  {
   "cell_type": "markdown",
   "id": "8ab5b4c9-70f4-4d3c-81cd-cbee9612e925",
   "metadata": {},
   "source": [
    "<h1> Insight#56<h/1>"
   ]
  },
  {
   "cell_type": "markdown",
   "id": "57802f01-2a82-45ae-8f8c-4285b56e78ff",
   "metadata": {},
   "source": [
    "<h3>Based on the heatmap of The Bronx (South Bronx), the hot spot suggests intensive density around one of the most populated and accessible areas of The Bronx, likely as a result of big anchors like Yankee Stadium (in the case that the data is event-driven) or the central transit intersections (4, 5, 2 trains) that traverse the region of Mott Haven and the Concourse. The concentration defines an intensely populated urbanized corridor with significant contact with the public..</h3>"
   ]
  }
 ],
 "metadata": {
  "kernelspec": {
   "display_name": "Python 3 (ipykernel)",
   "language": "python",
   "name": "python3"
  },
  "language_info": {
   "codemirror_mode": {
    "name": "ipython",
    "version": 3
   },
   "file_extension": ".py",
   "mimetype": "text/x-python",
   "name": "python",
   "nbconvert_exporter": "python",
   "pygments_lexer": "ipython3",
   "version": "3.12.1"
  }
 },
 "nbformat": 4,
 "nbformat_minor": 5
}
